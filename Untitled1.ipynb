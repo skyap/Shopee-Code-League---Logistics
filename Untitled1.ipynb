{
 "cells": [
  {
   "cell_type": "code",
   "execution_count": 48,
   "metadata": {},
   "outputs": [],
   "source": [
    "import pandas as pd\n",
    "from datetime import datetime,timedelta\n",
    "import numpy as np\n",
    "from tqdm import tqdm\n",
    "df = pd.read_csv(\"delivery_orders_march.csv\",nrows=1000)\n"
   ]
  },
  {
   "cell_type": "code",
   "execution_count": 8,
   "metadata": {},
   "outputs": [],
   "source": [
    "def utc_to_dt(utc):\n",
    "    dt = datetime.utcfromtimestamp(utc)+timedelta(hours=8)\n",
    "    return datetime(year=dt.year,month=dt.month,day=dt.day)"
   ]
  },
  {
   "cell_type": "code",
   "execution_count": 45,
   "metadata": {},
   "outputs": [],
   "source": [
    "def find(x):\n",
    "    sla_name = ['metro manila','luzon','visayas','mindanao']\n",
    "    sla_matrix = {'metro manila':{'metro manila':3,'luzon':5,'visayas':7,'mindanao':7},\n",
    "                 'luzon':{'metro manila':5,'luzon':5,'visayas':7,'mindanao':7},\n",
    "                 'visayas':{'metro manila':7,'luzon':7,'visayas':7,'mindanao':7},\n",
    "                 'mindanao':{'metro manila':7,'luzon':7,'visayas':7,'mindanao':7},\n",
    "                 }\n",
    "    public_holiday=[datetime(2020,3,8),datetime(2020,3,25),datetime(2020,3,30),datetime(2020,3,31)]\n",
    "    seller_add=\"\"\n",
    "    buyer_add=\"\"\n",
    "    selleraddress = x.selleraddress.lower()\n",
    "    buyeraddress = x.buyeraddress.lower()\n",
    "    for i in range(4):\n",
    "        if selleraddress.find(sla_name[i])!=-1:\n",
    "            seller_add = sla_name[i]\n",
    "    for i in range(4):\n",
    "        if buyeraddress.find(sla_name[i])!=-1:\n",
    "            buyer_add = sla_name[i]\n",
    "#     print(x.selleraddress,x.buyeraddress)\n",
    "    sla_duration = sla_matrix[seller_add][buyer_add]\n",
    "    pickup = utc_to_dt(x.pick)\n",
    "    first = pickup + timedelta(days=sla_duration)\n",
    "    extra = 0\n",
    "    for i in public_holiday:\n",
    "        if pickup<=i<=first:\n",
    "            extra+=1\n",
    "    first = first + timedelta(days=extra)\n",
    "    actual_first = utc_to_dt(x['1st_deliver_attempt'])\n",
    "    if actual_first>first:\n",
    "        return 1\n",
    "    if pd.isnull(x['2nd_deliver_attempt']):\n",
    "        return 0\n",
    "    second = actual_first + timedelta(days=3)\n",
    "    extra = 0\n",
    "    for i in public_holiday:\n",
    "        if actual_first<=i<=second:\n",
    "            extra+=1\n",
    "    second = second + timedelta(days=extra)\n",
    "    actual_second = utc_to_dt(x['2nd_deliver_attempt'])\n",
    "    if actual_second>second:\n",
    "        return 1\n",
    "    return 0"
   ]
  },
  {
   "cell_type": "code",
   "execution_count": 49,
   "metadata": {},
   "outputs": [
    {
     "name": "stderr",
     "output_type": "stream",
     "text": [
      "/home/skyap/.local/lib/python3.8/site-packages/tqdm/std.py:668: FutureWarning: The Panel class is removed from pandas. Accessing it from the top-level namespace will also be removed in the next version\n",
      "  from pandas import Panel\n",
      "100%|██████████| 1000/1000 [00:00<00:00, 13920.78it/s]\n"
     ]
    }
   ],
   "source": [
    "tqdm.pandas()\n",
    "\n",
    "df['is_late'] = df.progress_apply(find,axis=1)"
   ]
  },
  {
   "cell_type": "code",
   "execution_count": 54,
   "metadata": {},
   "outputs": [],
   "source": [
    "df.drop([\"pick\",\"1st_deliver_attempt\",\"2nd_deliver_attempt\",\"buyeraddress\",\"selleraddress\"],axis=1,inplace=True)\n",
    "df.to_csv(\"result.csv\",index=False)"
   ]
  },
  {
   "cell_type": "code",
   "execution_count": null,
   "metadata": {},
   "outputs": [],
   "source": []
  }
 ],
 "metadata": {
  "kernelspec": {
   "display_name": "Python 3",
   "language": "python",
   "name": "python3"
  },
  "language_info": {
   "codemirror_mode": {
    "name": "ipython",
    "version": 3
   },
   "file_extension": ".py",
   "mimetype": "text/x-python",
   "name": "python",
   "nbconvert_exporter": "python",
   "pygments_lexer": "ipython3",
   "version": "3.8.2"
  }
 },
 "nbformat": 4,
 "nbformat_minor": 4
}
